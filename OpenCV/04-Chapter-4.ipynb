{
 "cells": [
  {
   "cell_type": "code",
   "execution_count": 2,
   "metadata": {},
   "outputs": [
    {
     "ename": "AttributeError",
     "evalue": "module 'cv2' has no attribute 'destroyAllWindow'",
     "output_type": "error",
     "traceback": [
      "\u001b[1;31m---------------------------------------------------------------------------\u001b[0m",
      "\u001b[1;31mAttributeError\u001b[0m                            Traceback (most recent call last)",
      "\u001b[1;32mc:\\Users\\Saeed Ahmad\\Desktop\\Python\\OpenCV\\04-Chapter-4.ipynb Cell 1'\u001b[0m in \u001b[0;36m<cell line: 14>\u001b[1;34m()\u001b[0m\n\u001b[0;32m     <a href='vscode-notebook-cell:/c%3A/Users/Saeed%20Ahmad/Desktop/Python/OpenCV/04-Chapter-4.ipynb#ch0000000?line=10'>11</a>\u001b[0m cv\u001b[39m.\u001b[39mimshow(\u001b[39m\"\u001b[39m\u001b[39mblack & white\u001b[39m\u001b[39m\"\u001b[39m, binary)\n\u001b[0;32m     <a href='vscode-notebook-cell:/c%3A/Users/Saeed%20Ahmad/Desktop/Python/OpenCV/04-Chapter-4.ipynb#ch0000000?line=12'>13</a>\u001b[0m cv\u001b[39m.\u001b[39mwaitKey(\u001b[39m0\u001b[39m)\n\u001b[1;32m---> <a href='vscode-notebook-cell:/c%3A/Users/Saeed%20Ahmad/Desktop/Python/OpenCV/04-Chapter-4.ipynb#ch0000000?line=13'>14</a>\u001b[0m cv\u001b[39m.\u001b[39;49mdestroyAllWindow()\n",
      "\u001b[1;31mAttributeError\u001b[0m: module 'cv2' has no attribute 'destroyAllWindow'"
     ]
    }
   ],
   "source": [
    "# Converting images to gray and black/white colour\n",
    "import cv2 as cv\n",
    "\n",
    "img = cv.imread(\"resources/Picture.jpg\")\n",
    "\n",
    "gray = cv.cvtColor(img, cv.COLOR_BGR2GRAY)\n",
    "\n",
    "thresh, binary = cv.threshold(gray, 127, 255, cv.THRESH_BINARY)\n",
    "\n",
    "cv.imshow(\"Orignal\", img)\n",
    "cv.imshow(\"Gray\", gray)\n",
    "cv.imshow(\"black & white\", binary)\n",
    "\n",
    "cv.waitKey(0)\n",
    "cv.destroyAllWindow()"
   ]
  },
  {
   "cell_type": "code",
   "execution_count": null,
   "metadata": {},
   "outputs": [],
   "source": []
  }
 ],
 "metadata": {
  "kernelspec": {
   "display_name": "Python 3.10.1 64-bit",
   "language": "python",
   "name": "python3"
  },
  "language_info": {
   "codemirror_mode": {
    "name": "ipython",
    "version": 3
   },
   "file_extension": ".py",
   "mimetype": "text/x-python",
   "name": "python",
   "nbconvert_exporter": "python",
   "pygments_lexer": "ipython3",
   "version": "3.10.1"
  },
  "orig_nbformat": 4,
  "vscode": {
   "interpreter": {
    "hash": "d984a1fd9204125f390cfd77e0e226d56e2b54df5d9f2660329cba255a24bbf8"
   }
  }
 },
 "nbformat": 4,
 "nbformat_minor": 2
}
