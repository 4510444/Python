{
 "cells": [
  {
   "cell_type": "code",
   "execution_count": 1,
   "metadata": {},
   "outputs": [],
   "source": [
    "# Importing library\n",
    "import cv2 as cv\n",
    "# Reading and Resizing the Image\n",
    "img = cv.imread(\"resources/Picture.jpg\")\n",
    "img = cv.resize(img, (800,600))    # Height and with 800 and 600"
   ]
  },
  {
   "cell_type": "code",
   "execution_count": 2,
   "metadata": {},
   "outputs": [
    {
     "ename": "AttributeError",
     "evalue": "module 'cv2' has no attribute 'desroyAllWindows'",
     "output_type": "error",
     "traceback": [
      "\u001b[1;31m---------------------------------------------------------------------------\u001b[0m",
      "\u001b[1;31mAttributeError\u001b[0m                            Traceback (most recent call last)",
      "\u001b[1;32mc:\\Users\\Saeed Ahmad\\Desktop\\Python\\OpenCV\\02-Chapter-2.ipynb Cell 2'\u001b[0m in \u001b[0;36m<cell line: 4>\u001b[1;34m()\u001b[0m\n\u001b[0;32m      <a href='vscode-notebook-cell:/c%3A/Users/Saeed%20Ahmad/Desktop/Python/OpenCV/02-Chapter-2.ipynb#ch0000001?line=1'>2</a>\u001b[0m cv\u001b[39m.\u001b[39mimshow(\u001b[39m\"\u001b[39m\u001b[39mOrignal\u001b[39m\u001b[39m\"\u001b[39m,img)\n\u001b[0;32m      <a href='vscode-notebook-cell:/c%3A/Users/Saeed%20Ahmad/Desktop/Python/OpenCV/02-Chapter-2.ipynb#ch0000001?line=2'>3</a>\u001b[0m cv\u001b[39m.\u001b[39mwaitKey(\u001b[39m0\u001b[39m)\n\u001b[1;32m----> <a href='vscode-notebook-cell:/c%3A/Users/Saeed%20Ahmad/Desktop/Python/OpenCV/02-Chapter-2.ipynb#ch0000001?line=3'>4</a>\u001b[0m cv\u001b[39m.\u001b[39;49mdesroyAllWindows()\n",
      "\u001b[1;31mAttributeError\u001b[0m: module 'cv2' has no attribute 'desroyAllWindows'"
     ]
    },
    {
     "ename": "",
     "evalue": "",
     "output_type": "error",
     "traceback": [
      "\u001b[1;31mThe Kernel crashed while executing code in the the current cell or a previous cell. Please review the code in the cell(s) to identify a possible cause of the failure. Click <a href='https://aka.ms/vscodeJupyterKernelCrash'>here</a> for more info. View Jupyter <a href='command:jupyter.viewOutput'>log</a> for further details."
     ]
    }
   ],
   "source": [
    "# Display code\n",
    "cv.imshow(\"Orignal\",img)\n",
    "# Delay code\n",
    "cv.waitKey(0)\n",
    "cv.desroyAllWindows()"
   ]
  },
  {
   "cell_type": "code",
   "execution_count": null,
   "metadata": {},
   "outputs": [],
   "source": []
  }
 ],
 "metadata": {
  "kernelspec": {
   "display_name": "Python 3.10.1 64-bit",
   "language": "python",
   "name": "python3"
  },
  "language_info": {
   "codemirror_mode": {
    "name": "ipython",
    "version": 3
   },
   "file_extension": ".py",
   "mimetype": "text/x-python",
   "name": "python",
   "nbconvert_exporter": "python",
   "pygments_lexer": "ipython3",
   "version": "3.10.1"
  },
  "orig_nbformat": 4,
  "vscode": {
   "interpreter": {
    "hash": "d984a1fd9204125f390cfd77e0e226d56e2b54df5d9f2660329cba255a24bbf8"
   }
  }
 },
 "nbformat": 4,
 "nbformat_minor": 2
}
