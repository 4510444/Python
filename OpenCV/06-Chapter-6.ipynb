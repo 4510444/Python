{
 "cells": [
  {
   "cell_type": "code",
   "execution_count": 4,
   "metadata": {},
   "outputs": [
    {
     "ename": "TypeError",
     "evalue": "destroyWindow() missing required argument 'winname' (pos 1)",
     "output_type": "error",
     "traceback": [
      "\u001b[1;31m---------------------------------------------------------------------------\u001b[0m",
      "\u001b[1;31mTypeError\u001b[0m                                 Traceback (most recent call last)",
      "\u001b[1;32mc:\\Users\\Saeed Ahmad\\Desktop\\Python\\OpenCV\\06-Chapter-6.ipynb Cell 1'\u001b[0m in \u001b[0;36m<cell line: 20>\u001b[1;34m()\u001b[0m\n\u001b[0;32m     <a href='vscode-notebook-cell:/c%3A/Users/Saeed%20Ahmad/Desktop/Python/OpenCV/06-Chapter-6.ipynb#ch0000000?line=17'>18</a>\u001b[0m         \u001b[39mbreak\u001b[39;00m\n\u001b[0;32m     <a href='vscode-notebook-cell:/c%3A/Users/Saeed%20Ahmad/Desktop/Python/OpenCV/06-Chapter-6.ipynb#ch0000000?line=18'>19</a>\u001b[0m cap\u001b[39m.\u001b[39mrelease()\n\u001b[1;32m---> <a href='vscode-notebook-cell:/c%3A/Users/Saeed%20Ahmad/Desktop/Python/OpenCV/06-Chapter-6.ipynb#ch0000000?line=19'>20</a>\u001b[0m cv\u001b[39m.\u001b[39;49mdestroyWindow()\n",
      "\u001b[1;31mTypeError\u001b[0m: destroyWindow() missing required argument 'winname' (pos 1)"
     ]
    },
    {
     "ename": "",
     "evalue": "",
     "output_type": "error",
     "traceback": [
      "\u001b[1;31mThe Kernel crashed while executing code in the the current cell or a previous cell. Please review the code in the cell(s) to identify a possible cause of the failure. Click <a href='https://aka.ms/vscodeJupyterKernelCrash'>here</a> for more info. View Jupyter <a href='command:jupyter.viewOutput'>log</a> for further details."
     ]
    }
   ],
   "source": [
    "# reading a video\n",
    "\n",
    "import cv2 as cv\n",
    "cap = cv.VideoCapture(\"resources/saeed.mp4\")\n",
    "\n",
    "# indicator\n",
    "# if cap.isOpened() == False:\n",
    "#     print(\"Error in reading video\")\n",
    "\n",
    "# Reading and Playing a video\n",
    "while(cap.isOpened()):\n",
    "    ret, frame = cap.read()\n",
    "    if ret == True:\n",
    "        cv.imshow(\"Video\", frame)\n",
    "        if cv.waitKey(1) & 0xFF == ord(\"q\"):\n",
    "            break\n",
    "    else:\n",
    "        break\n",
    "cap.release()\n",
    "cv.destroyWindow()\n"
   ]
  },
  {
   "cell_type": "code",
   "execution_count": null,
   "metadata": {},
   "outputs": [],
   "source": []
  }
 ],
 "metadata": {
  "kernelspec": {
   "display_name": "Python 3.10.1 64-bit",
   "language": "python",
   "name": "python3"
  },
  "language_info": {
   "codemirror_mode": {
    "name": "ipython",
    "version": 3
   },
   "file_extension": ".py",
   "mimetype": "text/x-python",
   "name": "python",
   "nbconvert_exporter": "python",
   "pygments_lexer": "ipython3",
   "version": "3.10.1"
  },
  "orig_nbformat": 4,
  "vscode": {
   "interpreter": {
    "hash": "d984a1fd9204125f390cfd77e0e226d56e2b54df5d9f2660329cba255a24bbf8"
   }
  }
 },
 "nbformat": 4,
 "nbformat_minor": 2
}
