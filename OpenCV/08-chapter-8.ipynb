{
 "cells": [
  {
   "cell_type": "code",
   "execution_count": 2,
   "metadata": {},
   "outputs": [
    {
     "ename": "error",
     "evalue": "OpenCV(4.6.0) :-1: error: (-5:Bad argument) in function 'VideoWriter'\n> Overload resolution failed:\n>  - Can't parse 'frameSize'. Input argument doesn't provide sequence protocol\n>  - Can't parse 'frameSize'. Input argument doesn't provide sequence protocol\n>  - Can't parse 'frameSize'. Input argument doesn't provide sequence protocol\n>  - VideoWriter() missing required argument 'params' (pos 6)\n",
     "output_type": "error",
     "traceback": [
      "\u001b[1;31m---------------------------------------------------------------------------\u001b[0m",
      "\u001b[1;31merror\u001b[0m                                     Traceback (most recent call last)",
      "\u001b[1;32mc:\\Users\\Saeed Ahmad\\Desktop\\Python\\OpenCV\\08-chapter-8.ipynb Cell 1'\u001b[0m in \u001b[0;36m<cell line: 10>\u001b[1;34m()\u001b[0m\n\u001b[0;32m      <a href='vscode-notebook-cell:/c%3A/Users/Saeed%20Ahmad/Desktop/Python/OpenCV/08-chapter-8.ipynb#ch0000000?line=7'>8</a>\u001b[0m frame_width \u001b[39m=\u001b[39m \u001b[39mint\u001b[39m(cap\u001b[39m.\u001b[39mget(\u001b[39m3\u001b[39m))\n\u001b[0;32m      <a href='vscode-notebook-cell:/c%3A/Users/Saeed%20Ahmad/Desktop/Python/OpenCV/08-chapter-8.ipynb#ch0000000?line=8'>9</a>\u001b[0m frame_height \u001b[39m=\u001b[39m \u001b[39mint\u001b[39m(cap\u001b[39m.\u001b[39mget(\u001b[39m4\u001b[39m))\n\u001b[1;32m---> <a href='vscode-notebook-cell:/c%3A/Users/Saeed%20Ahmad/Desktop/Python/OpenCV/08-chapter-8.ipynb#ch0000000?line=9'>10</a>\u001b[0m out \u001b[39m=\u001b[39m cv\u001b[39m.\u001b[39;49mVideoWriter(\u001b[39m\"\u001b[39;49m\u001b[39mresources/Out_video.avi\u001b[39;49m\u001b[39m\"\u001b[39;49m,cv\u001b[39m.\u001b[39;49mVideoWriter_fourcc(\u001b[39m\"\u001b[39;49m\u001b[39mM\u001b[39;49m\u001b[39m\"\u001b[39;49m,\u001b[39m\"\u001b[39;49m\u001b[39mJ\u001b[39;49m\u001b[39m\"\u001b[39;49m,\u001b[39m\"\u001b[39;49m\u001b[39mP\u001b[39;49m\u001b[39m\"\u001b[39;49m,\u001b[39m\"\u001b[39;49m\u001b[39mG\u001b[39;49m\u001b[39m\"\u001b[39;49m),\u001b[39m10\u001b[39;49m, frame_width,frame_height)\n\u001b[0;32m     <a href='vscode-notebook-cell:/c%3A/Users/Saeed%20Ahmad/Desktop/Python/OpenCV/08-chapter-8.ipynb#ch0000000?line=12'>13</a>\u001b[0m \u001b[39m# Reading and Playing a video\u001b[39;00m\n\u001b[0;32m     <a href='vscode-notebook-cell:/c%3A/Users/Saeed%20Ahmad/Desktop/Python/OpenCV/08-chapter-8.ipynb#ch0000000?line=13'>14</a>\u001b[0m \u001b[39mwhile\u001b[39;00m (\u001b[39mTrue\u001b[39;00m):\n",
      "\u001b[1;31merror\u001b[0m: OpenCV(4.6.0) :-1: error: (-5:Bad argument) in function 'VideoWriter'\n> Overload resolution failed:\n>  - Can't parse 'frameSize'. Input argument doesn't provide sequence protocol\n>  - Can't parse 'frameSize'. Input argument doesn't provide sequence protocol\n>  - Can't parse 'frameSize'. Input argument doesn't provide sequence protocol\n>  - VideoWriter() missing required argument 'params' (pos 6)\n"
     ]
    }
   ],
   "source": [
    "# Converting video to gray and black/white\n",
    "# reading a video\n",
    "\n",
    "import cv2 as cv\n",
    "cap = cv.VideoCapture(\"resources/saeed.mp4\")\n",
    "\n",
    "# Writing format, codec, video writer object and file output\n",
    "frame_width = int(cap.get(3))\n",
    "frame_height = int(cap.get(4))\n",
    "out = cv.VideoWriter(\"resources/Out_video.avi\",cv.VideoWriter_fourcc(\"M\",\"J\",\"P\",\"G\"),10, frame_width,frame_height, isColor=False)\n",
    "\n",
    "\n",
    "# Reading and Playing a video\n",
    "while (True):\n",
    "    ret, frame = cap.read()\n",
    "    gray_frame = cv.cvtColor(frame, cv.COLOR_BGR2GRAY)\n",
    "    thresh, binary = cv.threshold(gray_frame, 127, 255, cv.THRESH_BINARY)\n",
    "    if ret == True:\n",
    "        out.write(gray_frame)\n",
    "        cv.imshow(\"Video\", binary)\n",
    "        if cv.waitKey(1) & 0xFF == ord(\"q\"):\n",
    "            break\n",
    "    else:\n",
    "        break\n",
    "cap.release()\n",
    "out.release()\n",
    "cv.destroyWindow()\n"
   ]
  }
 ],
 "metadata": {
  "kernelspec": {
   "display_name": "Python 3.10.1 64-bit",
   "language": "python",
   "name": "python3"
  },
  "language_info": {
   "codemirror_mode": {
    "name": "ipython",
    "version": 3
   },
   "file_extension": ".py",
   "mimetype": "text/x-python",
   "name": "python",
   "nbconvert_exporter": "python",
   "pygments_lexer": "ipython3",
   "version": "3.10.1"
  },
  "orig_nbformat": 4,
  "vscode": {
   "interpreter": {
    "hash": "d984a1fd9204125f390cfd77e0e226d56e2b54df5d9f2660329cba255a24bbf8"
   }
  }
 },
 "nbformat": 4,
 "nbformat_minor": 2
}
