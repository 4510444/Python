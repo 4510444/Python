{
 "cells": [
  {
   "cell_type": "code",
   "execution_count": 6,
   "metadata": {},
   "outputs": [],
   "source": [
    "# Importing Libarary\n",
    "import cv2 as cv\n",
    "# Reading the Image\n",
    "img = cv.imread(\"resources/Picture.jpg\")"
   ]
  },
  {
   "cell_type": "code",
   "execution_count": 7,
   "metadata": {},
   "outputs": [
    {
     "ename": "AttributeError",
     "evalue": "module 'cv2' has no attribute 'desroyAllWindows'",
     "output_type": "error",
     "traceback": [
      "\u001b[1;31m---------------------------------------------------------------------------\u001b[0m",
      "\u001b[1;31mAttributeError\u001b[0m                            Traceback (most recent call last)",
      "\u001b[1;32mc:\\Users\\Saeed Ahmad\\Desktop\\Python\\OpenCV\\01-Chapter-1.ipynb Cell 2'\u001b[0m in \u001b[0;36m<cell line: 5>\u001b[1;34m()\u001b[0m\n\u001b[0;32m      <a href='vscode-notebook-cell:/c%3A/Users/Saeed%20Ahmad/Desktop/Python/OpenCV/01-Chapter-1.ipynb#ch0000001?line=2'>3</a>\u001b[0m \u001b[39m# Delay code\u001b[39;00m\n\u001b[0;32m      <a href='vscode-notebook-cell:/c%3A/Users/Saeed%20Ahmad/Desktop/Python/OpenCV/01-Chapter-1.ipynb#ch0000001?line=3'>4</a>\u001b[0m cv\u001b[39m.\u001b[39mwaitKey(\u001b[39m0\u001b[39m)\n\u001b[1;32m----> <a href='vscode-notebook-cell:/c%3A/Users/Saeed%20Ahmad/Desktop/Python/OpenCV/01-Chapter-1.ipynb#ch0000001?line=4'>5</a>\u001b[0m cv\u001b[39m.\u001b[39;49mdesroyAllWindows()\n",
      "\u001b[1;31mAttributeError\u001b[0m: module 'cv2' has no attribute 'desroyAllWindows'"
     ]
    }
   ],
   "source": [
    "# Display code\n",
    "cv.imshow(\"Orignal\",img)\n",
    "# Delay code\n",
    "cv.waitKey(0)\n",
    "cv.desroyAllWindows()"
   ]
  },
  {
   "cell_type": "code",
   "execution_count": null,
   "metadata": {},
   "outputs": [],
   "source": []
  }
 ],
 "metadata": {
  "kernelspec": {
   "display_name": "Python 3.10.1 64-bit",
   "language": "python",
   "name": "python3"
  },
  "language_info": {
   "codemirror_mode": {
    "name": "ipython",
    "version": 3
   },
   "file_extension": ".py",
   "mimetype": "text/x-python",
   "name": "python",
   "nbconvert_exporter": "python",
   "pygments_lexer": "ipython3",
   "version": "3.10.1"
  },
  "orig_nbformat": 4,
  "vscode": {
   "interpreter": {
    "hash": "d984a1fd9204125f390cfd77e0e226d56e2b54df5d9f2660329cba255a24bbf8"
   }
  }
 },
 "nbformat": 4,
 "nbformat_minor": 2
}
